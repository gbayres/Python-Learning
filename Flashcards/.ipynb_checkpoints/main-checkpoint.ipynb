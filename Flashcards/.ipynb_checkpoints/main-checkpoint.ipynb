{
 "cells": [
  {
   "cell_type": "code",
   "execution_count": null,
   "metadata": {},
   "outputs": [],
   "source": [
    "import pandas as pd\n",
    "import numpy as np\n",
    "from datetime import datetime as dt"
   ]
  },
  {
   "cell_type": "code",
   "execution_count": null,
   "metadata": {},
   "outputs": [],
   "source": [
    "df = pd.read_csv(\"dados2.csv\")\n",
    "SCORE_INDEX = df.columns.get_loc('Score')\n",
    "TIME_INDEX = df.columns.get_loc(\"Tempo\")\n",
    "\n",
    "# df"
   ]
  },
  {
   "cell_type": "code",
   "execution_count": null,
   "metadata": {},
   "outputs": [],
   "source": [
    "def addFlashcard(frente, verso, tema):\n",
    "    global df\n",
    "    now = dt.today().timestamp()\n",
    "    newRow = {\n",
    "        \"Score\": 0,\n",
    "        \"Frente\": frente,\n",
    "        \"Verso\": verso,\n",
    "        \"Tema\": tema,\n",
    "        \"Tempo\": now,\n",
    "    }\n",
    "    \n",
    "    df = df.append(newRow, ignore_index=True)\n",
    "\n",
    "# addFlashcard(\n",
    "#     \"Principal causa de mortalidade tardia associada ao trauma do ducto biliar\",\n",
    "#     \"Estenose biliar\",\n",
    "#     \"Trauma\"\n",
    "# )\n",
    "\n",
    "# df"
   ]
  },
  {
   "cell_type": "code",
   "execution_count": null,
   "metadata": {},
   "outputs": [],
   "source": [
    "def removeFlashcard(index):\n",
    "    global df\n",
    "    df = df.drop([index])"
   ]
  },
  {
   "cell_type": "code",
   "execution_count": null,
   "metadata": {},
   "outputs": [],
   "source": [
    "def selectByTheme(temas):\n",
    "    global df\n",
    "    return df.loc[df[\"Tema\"].isin(temas)]"
   ]
  },
  {
   "cell_type": "code",
   "execution_count": null,
   "metadata": {},
   "outputs": [],
   "source": [
    "for i in range(len(df.index)):\n",
    "    DIFERENCA = dt.today().timestamp() - df.iloc[i, TIME_INDEX]\n",
    "\n",
    "    SEGUNDOS = DIFERENCA / 1000\n",
    "    \n",
    "    DIAS = int(SEGUNDOS / (24 * 60 * 60))\n",
    "\n",
    "    INTERVALO = int(DIAS / 5)\n",
    "\n",
    "    df.iloc[i, SCORE_INDEX] += INTERVALO"
   ]
  },
  {
   "cell_type": "code",
   "execution_count": null,
   "metadata": {},
   "outputs": [],
   "source": [
    "# THEMES = df.Tema.unique()\n",
    "\n",
    "THEMES = [\"Tuberculose\"]\n",
    "\n",
    "lines = selectByTheme(THEMES).nlargest(50,\"Score\").index\n"
   ]
  },
  {
   "cell_type": "code",
   "execution_count": null,
   "metadata": {},
   "outputs": [],
   "source": [
    "for i in lines:\n",
    "    current = df.iloc[i,]\n",
    "    input(str(current.Frente) + '\\n')\n",
    "    answer = input(str(current.Verso) + '\\n\\n' + \"Acertou? Não=ENTER, Parar='stop'\\n\" )\n",
    "\n",
    "    df.iloc[i, TIME_INDEX] = dt.today().timestamp()\n",
    "    \n",
    "    if answer == \"\":\n",
    "        df.iloc[i, SCORE_INDEX] += 1\n",
    "    \n",
    "    elif answer == \"stop\":\n",
    "        break\n",
    "    \n",
    "    else:\n",
    "        df.iloc[i, SCORE_INDEX] -= 1"
   ]
  },
  {
   "cell_type": "code",
   "execution_count": null,
   "metadata": {},
   "outputs": [],
   "source": [
    "with open(\"dados2.csv\", 'w') as file:\n",
    "    file.write(df.to_csv(index=False))"
   ]
  },
  {
   "cell_type": "code",
   "execution_count": null,
   "metadata": {},
   "outputs": [],
   "source": []
  }
 ],
 "metadata": {
  "kernelspec": {
   "display_name": "Python 3",
   "language": "python",
   "name": "python3"
  },
  "language_info": {
   "codemirror_mode": {
    "name": "ipython",
    "version": 3
   },
   "file_extension": ".py",
   "mimetype": "text/x-python",
   "name": "python",
   "nbconvert_exporter": "python",
   "pygments_lexer": "ipython3",
   "version": "3.8.5"
  }
 },
 "nbformat": 4,
 "nbformat_minor": 4
}
