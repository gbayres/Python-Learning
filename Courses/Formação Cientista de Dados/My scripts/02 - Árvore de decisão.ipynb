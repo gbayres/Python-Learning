{
 "cells": [
  {
   "cell_type": "code",
   "execution_count": 1,
   "metadata": {},
   "outputs": [],
   "source": [
    "#Bibliotheken importieren\n",
    "#Import libraries\n",
    "import pandas as pd\n",
    "from sklearn.preprocessing import LabelEncoder\n",
    "from sklearn.model_selection import train_test_split\n",
    "from sklearn.tree import DecisionTreeClassifier\n",
    "from sklearn.tree import export_graphviz\n",
    "import graphviz\n",
    "from sklearn.metrics import confusion_matrix, accuracy_score"
   ]
  },
  {
   "cell_type": "code",
   "execution_count": 2,
   "metadata": {},
   "outputs": [],
   "source": [
    "#Datenbank laden\n",
    "#Load database\n",
    "df = pd.read_csv(\"Credit.csv\")"
   ]
  },
  {
   "cell_type": "code",
   "execution_count": 3,
   "metadata": {},
   "outputs": [],
   "source": [
    "#Erstellen Sie Prädiktoren und Klassen\n",
    "#Create predictors and classes\n",
    "Prädiktoren = df.iloc[:,:20].values\n",
    "Klassen = df.iloc[:,20].values"
   ]
  },
  {
   "cell_type": "code",
   "execution_count": 5,
   "metadata": {},
   "outputs": [],
   "source": [
    "#Beschriftungencodierer erstellen\n",
    "#Create Label Encoder\n",
    "ausgewählt = [0,2,3,5,6,8,9,10,11,13,14,16,18,19]\n",
    "\n",
    "for i in ausgewählt:\n",
    "    Prädiktoren[:,i] = LabelEncoder().fit_transform(Prädiktoren[:,i])"
   ]
  },
  {
   "cell_type": "code",
   "execution_count": 6,
   "metadata": {},
   "outputs": [],
   "source": [
    "#Teilen Sie die Datenbank in schulungen und Tests auf\n",
    "#Split the database in training and testing\n",
    "x_schulungen, x_testen, y_schulungen, y_testen = train_test_split(Prädiktoren, \n",
    "                                                                  Klassen, \n",
    "                                                                  test_size=0.3, \n",
    "                                                                  random_state=0)"
   ]
  },
  {
   "cell_type": "code",
   "execution_count": 9,
   "metadata": {},
   "outputs": [
    {
     "data": {
      "text/plain": [
       "DecisionTreeClassifier()"
      ]
     },
     "execution_count": 9,
     "metadata": {},
     "output_type": "execute_result"
    }
   ],
   "source": [
    "#Erstellen und trainieren Sie das Modell\n",
    "#Create and train the model\n",
    "Baum = DecisionTreeClassifier()\n",
    "Baum.fit(x_schulungen, y_schulungen)"
   ]
  },
  {
   "cell_type": "code",
   "execution_count": 10,
   "metadata": {},
   "outputs": [],
   "source": [
    "#Exportieren Sie den Entscheidungsbaum\n",
    "#Export the decision tree\n",
    "export_graphviz(Baum, out_file=\"tree.dot\")"
   ]
  },
  {
   "cell_type": "code",
   "execution_count": 11,
   "metadata": {},
   "outputs": [],
   "source": [
    "#Erhalten Sie die Vorhersagen\n",
    "#Get the predictions\n",
    "Vorhersagen = Baum.predict(x_testen)"
   ]
  },
  {
   "cell_type": "code",
   "execution_count": 12,
   "metadata": {},
   "outputs": [],
   "source": [
    "#Generieren Sie die Verwirrungsmatrix\n",
    "#Generate the confusion matrix\n",
    "Verwirrungsmatrix = confusion_matrix(y_testen, Vorhersagen)"
   ]
  },
  {
   "cell_type": "code",
   "execution_count": 13,
   "metadata": {},
   "outputs": [],
   "source": [
    "#Trefferquote berechnen\n",
    "#Calculate hit rate\n",
    "Trefferquote = accuracy_score(y_testen, Vorhersagen)\n",
    "Fehlerrate = 1 - Trefferquote"
   ]
  }
 ],
 "metadata": {
  "kernelspec": {
   "display_name": "Python 3",
   "language": "python",
   "name": "python3"
  },
  "language_info": {
   "codemirror_mode": {
    "name": "ipython",
    "version": 3
   },
   "file_extension": ".py",
   "mimetype": "text/x-python",
   "name": "python",
   "nbconvert_exporter": "python",
   "pygments_lexer": "ipython3",
   "version": "3.8.5"
  }
 },
 "nbformat": 4,
 "nbformat_minor": 4
}
