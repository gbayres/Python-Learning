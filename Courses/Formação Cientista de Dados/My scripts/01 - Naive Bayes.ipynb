{
 "cells": [
  {
   "cell_type": "code",
   "execution_count": null,
   "metadata": {},
   "outputs": [],
   "source": [
    "#Import libraries\n",
    "#Bibliotheken importieren\n",
    "import pandas as pd\n",
    "from sklearn.preprocessing import LabelEncoder\n",
    "from sklearn.model_selection import train_test_split\n",
    "from sklearn.naive_bayes import GaussianNB\n",
    "from sklearn.metrics import confusion_matrix, accuracy_score\n",
    "from yellowbrick.classifier import ConfusionMatrix"
   ]
  },
  {
   "cell_type": "code",
   "execution_count": null,
   "metadata": {},
   "outputs": [],
   "source": [
    "#Load database\n",
    "#Datenbank laden\n",
    "df = pd.read_csv(\"Credit.csv\")\n",
    "df.head()"
   ]
  },
  {
   "cell_type": "code",
   "execution_count": null,
   "metadata": {},
   "outputs": [],
   "source": [
    "#Create predictors and classes\n",
    "#Erstellen Sie Prädiktoren und Klassen\n",
    "Prädiktoren = df.iloc[:,:20].values\n",
    "Klassen = df.iloc[:,20].values"
   ]
  },
  {
   "cell_type": "code",
   "execution_count": null,
   "metadata": {},
   "outputs": [],
   "source": [
    "#Create the Label Encoders\n",
    "#Erstellen Sie Beschriftungscodierer\n",
    "ausgewählt = [0,2,3,5,6,8,9,10,11,13,14,16,18,19]\n",
    "\n",
    "for Artikel in ausgewählt:\n",
    "    Prädiktoren[:,Artikel] = LabelEncoder().fit_transform(Prädiktoren[:,Artikel])"
   ]
  },
  {
   "cell_type": "code",
   "execution_count": null,
   "metadata": {},
   "outputs": [],
   "source": [
    "#Split the database into training and testing\n",
    "#Teilen Sie die Datenbank in Schulungen und Tests auf\n",
    "x_schulungen, x_testen, y_schulungen, y_testen = train_test_split(Prädiktoren,\n",
    "                                                                  Klassen,\n",
    "                                                                  test_size = 0.3, \n",
    "                                                                  random_state = 0)\n"
   ]
  },
  {
   "cell_type": "code",
   "execution_count": null,
   "metadata": {},
   "outputs": [],
   "source": [
    "#Create and train the model\n",
    "#Erstellen und trainieren Sie das Modell\n",
    "naive_bayes = GaussianNB()\n",
    "naive_bayes.fit(x_schulungen, y_schulungen)"
   ]
  },
  {
   "cell_type": "code",
   "execution_count": null,
   "metadata": {},
   "outputs": [],
   "source": [
    "#Predict\n",
    "#Prognostizieren\n",
    "Vohrersagen = naive_bayes.predict(x_testen)"
   ]
  },
  {
   "cell_type": "code",
   "execution_count": null,
   "metadata": {},
   "outputs": [],
   "source": [
    "#Produce confusion matrix\n",
    "#Verwirrungsmatrix erzeugen\n",
    "Verwirrungsmatrix = confusion_matrix(y_testen, Vohrersagen)\n",
    "Verwirrungsmatrix"
   ]
  },
  {
   "cell_type": "code",
   "execution_count": null,
   "metadata": {},
   "outputs": [],
   "source": [
    "#Calculate hit rate\n",
    "#Trefferquote berechnen\n",
    "Trefferquote = accuracy_score(y_testen, Vohrersagen)\n",
    "Fehlerrate = 1 - Trefferquote\n",
    "Trefferquote"
   ]
  },
  {
   "cell_type": "code",
   "execution_count": null,
   "metadata": {},
   "outputs": [],
   "source": [
    "#Plot the confusion matrix\n",
    "#Zeichen Sie die Verwirrungsmatrix\n",
    "visualisieren = ConfusionMatrix(GaussianNB())\n",
    "visualisieren.fit(x_schulungen, y_schulungen)\n",
    "visualisieren.score(x_testen, y_testen)\n",
    "visualisieren.poof()"
   ]
  }
 ],
 "metadata": {
  "kernelspec": {
   "display_name": "Python 3",
   "language": "python",
   "name": "python3"
  },
  "language_info": {
   "codemirror_mode": {
    "name": "ipython",
    "version": 3
   },
   "file_extension": ".py",
   "mimetype": "text/x-python",
   "name": "python",
   "nbconvert_exporter": "python",
   "pygments_lexer": "ipython3",
   "version": "3.8.5"
  }
 },
 "nbformat": 4,
 "nbformat_minor": 4
}
