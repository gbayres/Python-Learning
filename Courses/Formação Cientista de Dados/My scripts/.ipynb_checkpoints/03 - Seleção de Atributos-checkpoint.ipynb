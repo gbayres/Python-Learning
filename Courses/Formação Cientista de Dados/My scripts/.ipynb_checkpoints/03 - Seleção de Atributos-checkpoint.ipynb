{
 "cells": [
  {
   "cell_type": "code",
   "execution_count": 26,
   "metadata": {},
   "outputs": [],
   "source": [
    "#Bibliotheken importieren\n",
    "#Import libraries\n",
    "import pandas as pd\n",
    "from sklearn.preprocessing import LabelEncoder\n",
    "from sklearn.model_selection import train_test_split\n",
    "from sklearn.svm import SVC\n",
    "from sklearn.metrics import confusion_matrix, accuracy_score\n",
    "from sklearn.ensemble import ExtraTreesClassifier"
   ]
  },
  {
   "cell_type": "code",
   "execution_count": 27,
   "metadata": {},
   "outputs": [],
   "source": [
    "#Load database\n",
    "#Datenbank laden\n",
    "df = pd.read_csv(\"Credit.csv\")"
   ]
  },
  {
   "cell_type": "code",
   "execution_count": 28,
   "metadata": {},
   "outputs": [],
   "source": [
    "#Create predictors and classes\n",
    "#Erstellen Sie Prädiktoren und Klassen\n",
    "Prädiktoren = df.iloc[:,:20].values\n",
    "Klassen = df.iloc[:,20].values"
   ]
  },
  {
   "cell_type": "code",
   "execution_count": 29,
   "metadata": {},
   "outputs": [],
   "source": [
    "#Create Label Encoder\n",
    "#Beschriftungencodierer erstellen\n",
    "ausgewählt = [0,2,3,5,6,8,9,10,11,13,14,16,18,19]\n",
    "\n",
    "for i in ausgewählt:\n",
    "    Prädiktoren[:,i] = LabelEncoder().fit_transform(Prädiktoren[:,i])"
   ]
  },
  {
   "cell_type": "code",
   "execution_count": 30,
   "metadata": {},
   "outputs": [],
   "source": [
    "#Split the database into training and testing\n",
    "#Teilen Sie die Datenbank in schulungen und Tests auf\n",
    "x_schulungen, x_testen, y_schulungen, y_testen = train_test_split(Prädiktoren, \n",
    "                                                                  Klassen, \n",
    "                                                                  test_size=0.3, \n",
    "                                                                  random_state=1)"
   ]
  },
  {
   "cell_type": "code",
   "execution_count": 31,
   "metadata": {},
   "outputs": [
    {
     "data": {
      "text/plain": [
       "SVC()"
      ]
     },
     "execution_count": 31,
     "metadata": {},
     "output_type": "execute_result"
    }
   ],
   "source": [
    "#Create and train the model\n",
    "#Erstellen und trainieren Sie das Modell\n",
    "svm = SVC()\n",
    "svm.fit(x_schulungen, y_schulungen)"
   ]
  },
  {
   "cell_type": "code",
   "execution_count": 32,
   "metadata": {},
   "outputs": [],
   "source": [
    "#Get the predictions\n",
    "#Enhalten Sie das Vohrersagen\n",
    "Vorhersagen = svm.predict(x_testen)"
   ]
  },
  {
   "cell_type": "code",
   "execution_count": 33,
   "metadata": {},
   "outputs": [],
   "source": [
    "#Generate the confusion matrix\n",
    "#Generieren Sie die Verwirrungsmatrix\n",
    "Verwirrungsmatrix = confusion_matrix(y_testen, Vorhersagen)"
   ]
  },
  {
   "cell_type": "code",
   "execution_count": 34,
   "metadata": {},
   "outputs": [],
   "source": [
    "#Calculate hit rate\n",
    "#Trefferquote berechnen\n",
    "Trefferquote = accuracy_score(y_testen, Vorhersagen)"
   ]
  },
  {
   "cell_type": "code",
   "execution_count": 35,
   "metadata": {},
   "outputs": [
    {
     "data": {
      "text/plain": [
       "array([0.10112366, 0.08147717, 0.06836617, 0.05972967, 0.08268145,\n",
       "       0.05243427, 0.05052117, 0.05655942, 0.04163387, 0.02659332,\n",
       "       0.05248172, 0.04697138, 0.06911028, 0.04176354, 0.03513562,\n",
       "       0.03353582, 0.04041818, 0.02258459, 0.03032397, 0.00655476])"
      ]
     },
     "execution_count": 35,
     "metadata": {},
     "output_type": "execute_result"
    }
   ],
   "source": [
    "#Extract the most important features\n",
    "#Extrahieren Sie die wichtigsten Funktionen\n",
    "Wald = ExtraTreesClassifier()\n",
    "Wald.fit(x_schulungen, y_schulungen)\n",
    "Wichtigkeiten = Wald.feature_importances_\n",
    "Wichtigkeiten"
   ]
  },
  {
   "cell_type": "code",
   "execution_count": 36,
   "metadata": {},
   "outputs": [],
   "source": [
    "#Create a new database using only the most important attributes\n",
    "#Erstellen Sie eine neue Datenbank nur mit den wichtigsten Attributen\n",
    "x_schulungen2 = x_schulungen[:,[0,1,2,3]]\n",
    "x_testen2 = x_testen[:,[0,1,2,3]]"
   ]
  },
  {
   "cell_type": "code",
   "execution_count": 37,
   "metadata": {},
   "outputs": [
    {
     "data": {
      "text/plain": [
       "SVC()"
      ]
     },
     "execution_count": 37,
     "metadata": {},
     "output_type": "execute_result"
    }
   ],
   "source": [
    "#Create another model with the reduced database. \n",
    "#Erstellen Sie ein anderes Modell mit der reduzierten Datenbank\n",
    "svm2 = SVC()\n",
    "svm2.fit(x_schulungen2, y_schulungen)"
   ]
  },
  {
   "cell_type": "code",
   "execution_count": 38,
   "metadata": {},
   "outputs": [],
   "source": [
    "#Training and obtaining forecasts and hit rate.\n",
    "#Schulungen und Erhalt von Prognosen und Trefferquote.\n",
    "Vorhersagen2 = svm2.predict(x_testen2)\n",
    "Trefferquote = accuracy_score(y_testen, Vorhersagen2)\n",
    "Fehlerrate = 1 - Trefferquote"
   ]
  }
 ],
 "metadata": {
  "kernelspec": {
   "display_name": "Python 3",
   "language": "python",
   "name": "python3"
  },
  "language_info": {
   "codemirror_mode": {
    "name": "ipython",
    "version": 3
   },
   "file_extension": ".py",
   "mimetype": "text/x-python",
   "name": "python",
   "nbconvert_exporter": "python",
   "pygments_lexer": "ipython3",
   "version": "3.8.5"
  }
 },
 "nbformat": 4,
 "nbformat_minor": 4
}
